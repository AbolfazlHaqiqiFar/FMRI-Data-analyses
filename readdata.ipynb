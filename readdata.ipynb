{
 "cells": [
  {
   "cell_type": "code",
   "execution_count": 1,
   "metadata": {},
   "outputs": [],
   "source": [
    "import pandas as pd\n",
    "import seaborn as sns\n",
    "import matplotlib.pyplot as plt\n",
    "from mpl_toolkits.mplot3d import Axes3D\n",
    "import numpy as np\n",
    "import networkx as nx"
   ]
  },
  {
   "cell_type": "code",
   "execution_count": null,
   "metadata": {},
   "outputs": [],
   "source": [
    "data1 = pd.read_csv('910443.txt', delimiter=' ', header=None)\n",
    "data2 = pd.read_csv('927359.txt',delimiter=' ', header=None)\n",
    "data3 = pd.read_csv('983773.txt',delimiter=' ', header=None)\n",
    "data4 = pd.read_csv('990366.txt',delimiter=' ', header=None)\n",
    "data5 = pd.read_csv('993675.txt',delimiter=' ', header=None)\n",
    "data6 = pd.read_csv('996782.txt',delimiter=' ', header=None)\n",
    "data7 = pd.read_csv('994273.txt',delimiter=' ', header=None)\n",
    "data8 = pd.read_csv('992774.txt',delimiter=' ', header=None)"
   ]
  },
  {
   "cell_type": "code",
   "execution_count": null,
   "metadata": {},
   "outputs": [],
   "source": [
    "sns.heatmap(corr_matrix, cmap='RdBu_r')"
   ]
  },
  {
   "cell_type": "code",
   "execution_count": null,
   "metadata": {},
   "outputs": [],
   "source": [
    "# Create a new dataframe with the pairs and their correlation values\n",
    "corr_df = pd.DataFrame(corr_pairs.values, index=corr_pairs.index).reset_index()\n",
    "corr_df.columns = ['Feature 1', 'Feature 2', 'Correlation']\n",
    "\n",
    "# Plot the correlation matrix in pairs using seaborn\n",
    "sns.set(style='whitegrid', font_scale=1.2)\n",
    "g = sns.FacetGrid(corr_df, col='Feature 1', col_wrap=5, height=2.5)\n",
    "g.map_dataframe(sns.scatterplot, x='Feature 2', y='Correlation', color='blue', alpha=0.5)\n",
    "g.set_titles('{col_name}')\n",
    "g.set_xlabels('')\n",
    "g.set_ylabels('Correlation')\n",
    "plt.show()"
   ]
  },
  {
   "cell_type": "code",
   "execution_count": null,
   "metadata": {},
   "outputs": [],
   "source": [
    "# replace values greater than 0 with 1\n",
    "signed_corr_matrix = corr_matrix.applymap(lambda x: 1 if x > 0 else 0)\n",
    "negative_signed_matrix = corr_matrix.applymap(lambda x: 1 if x < 0 else 0)\n"
   ]
  },
  {
   "cell_type": "code",
   "execution_count": null,
   "metadata": {},
   "outputs": [],
   "source": [
    "import nibabel as nib\n",
    "from nilearn import plotting"
   ]
  },
  {
   "cell_type": "code",
   "execution_count": null,
   "metadata": {},
   "outputs": [],
   "source": [
    "# extract the brain activity data as a numpy array\n",
    "brain_activity = data2.values\n",
    "\n",
    "# reshape the brain activity data to 3D or 4D array\n",
    "brain_activity = brain_activity.reshape((4800,1, 50))\n",
    "\n",
    "# create a Nifti1Image object from the data\n",
    "nifti_img = nib.Nifti1Image(brain_activity, affine=np.eye(4))\n",
    "\n",
    "# plot the brain activity using nilearn\n",
    "plotting.view_img(nifti_img, threshold=None, cmap='cold_hot')"
   ]
  },
  {
   "cell_type": "code",
   "execution_count": null,
   "metadata": {},
   "outputs": [],
   "source": [
    "# Create a new graph object from the adjacency matrix\n",
    "graph = nx.from_numpy_array(signed_corr_matrix.values)\n",
    "\n",
    "# Draw the graph using the spring layout algorithm\n",
    "pos = nx.spring_layout(graph)\n",
    "nx.draw(graph, pos=pos, with_labels=True)\n",
    "\n",
    "plt.suptitle('Positive Signed Network', fontsize=14, color='red')\n",
    "plt.tight_layout()\n",
    "# Show the plot\n",
    "plt.show()"
   ]
  },
  {
   "cell_type": "code",
   "execution_count": null,
   "metadata": {},
   "outputs": [],
   "source": [
    "# Create a new graph object from the adjacency matrix\n",
    "graph = nx.from_numpy_array(negative_signed_matrix.values)\n",
    "\n",
    "# Draw the graph using the spring layout algorithm\n",
    "pos = nx.spring_layout(graph)\n",
    "nx.draw(graph, pos=pos, with_labels=True)\n",
    "\n",
    "plt.suptitle('Negative Signed Network', fontsize=14, color='red')\n",
    "plt.tight_layout()\n",
    "# Show the plot\n",
    "plt.show()"
   ]
  },
  {
   "cell_type": "code",
   "execution_count": null,
   "metadata": {},
   "outputs": [],
   "source": [
    "for i in range(50):\n",
    "    # Extract the activity data for the current brain region\n",
    "    activity = data3.values[i, :]  # Assumes fMRI_data is the variable name for your 3D array\n",
    "    \n",
    "    # Create a new figure and plot the activity data\n",
    "    fig = plt.figure()\n",
    "    plt.plot(activity)\n",
    "    plt.title(f'Brain Region {i+1}')\n",
    "    plt.xlabel('Time')\n",
    "    plt.ylabel('Activity')\n",
    "    #plt.show()\n",
    "    plt.savefig(f'Brain Activity{i+1}.png')"
   ]
  },
  {
   "cell_type": "code",
   "execution_count": null,
   "metadata": {},
   "outputs": [],
   "source": [
    "fig, axs = plt.subplots(nrows=10, ncols=5, figsize=(20, 20))\n",
    "\n",
    "# Iterate through each brain region and plot the activity on the corresponding subplot\n",
    "for i in range(50):\n",
    "    # Calculate the row and column index of the current subplot\n",
    "    row_idx = i // 5\n",
    "    col_idx = i % 5\n",
    "    \n",
    "    # Extract the activity data for the current brain region\n",
    "    activity = data8.values[i, :]  # Assumes fMRI_data is the variable name for your 3D array\n",
    "    \n",
    "    # Plot the activity data on the current subplot\n",
    "    axs[row_idx, col_idx].plot(activity)\n",
    "    axs[row_idx, col_idx].set_title(f'Brain Region {i+1}')\n",
    "    axs[row_idx, col_idx].set_xlabel('Time')\n",
    "\n",
    "fig.suptitle('Brain Activity Data for 50 Brain Regions(data8)', fontsize=36, color='red')\n",
    "\n",
    "# Adjust the spacing between subplots and display the figure\n",
    "plt.tight_layout()\n",
    "plt.savefig('Brain Activity(data8).png')\n",
    "plt.show()"
   ]
  },
  {
   "cell_type": "code",
   "execution_count": null,
   "metadata": {},
   "outputs": [],
   "source": [
    "def hide_current_axis(*args, **kwds):\n",
    "    plt.gca().set_visible(False)\n",
    "\n",
    "\n",
    "d1 = data1\n",
    "\n",
    "e = sns.pairplot(d1)\n",
    "e.map_upper(hide_current_axis)\n",
    "\n",
    "(xmin, _), (_, ymax) = e.axes[0, 0].get_position().get_points()\n",
    "(_, ymin), (xmax, _) = e.axes[-1, -1].get_position().get_points()\n",
    "\n",
    "ax = e.fig.add_axes([xmin, ymin, xmax - xmin, ymax - ymin], facecolor='none')\n",
    "\n",
    "corr1 = d1.corr()\n",
    "mask1 = np.tril(np.ones_like(corr1, dtype=bool))\n",
    "sns.heatmap(corr1, mask=mask1, cmap='seismic', vmax=.5, vmin=-.5,\n",
    "            linewidths=.5, cbar=False, annot_kws={'size': 22}, ax=ax)\n",
    "ax.set_xticks([])\n",
    "ax.set_yticks([])\n",
    "# ax.xaxis.tick_top()\n",
    "# ax.yaxis.tick_right()\n",
    "\n",
    "plt.show()"
   ]
  },
  {
   "cell_type": "code",
   "execution_count": null,
   "metadata": {},
   "outputs": [],
   "source": [
    "# Extract first column and other columns\n",
    "first_column = corr_matrix[:, 0]\n",
    "other_columns = corr_matrix[:, 1:]\n",
    "\n",
    "# Create plot using Seaborn\n",
    "sns.set(style=\"white\")\n",
    "sns.lineplot(data=other_columns.T, x=range(50), y=first_column)"
   ]
  },
  {
   "cell_type": "code",
   "execution_count": null,
   "metadata": {},
   "outputs": [],
   "source": [
    "for i in range(50): \n",
    "    corr_values = corr_matrix.iloc[i, 1:]\n",
    "\n",
    "    # Create a bar chart of the correlation values\n",
    "    fig, ax = plt.subplots(figsize=(10, 6))\n",
    "    colors = ['red' if x > 0.3 or x< -0.3 else 'blue' for x in corr_values.values]\n",
    "    ax.bar(corr_values.index, corr_values.values, color=colors)\n",
    "    ax.set_xlabel('Regions')\n",
    "    ax.set_ylabel('Correlation')\n",
    "    ax.set_title(f'Correlation between the {i+1}th Brain Region and Other Regions')\n",
    "    plt.xticks(rotation=90)\n",
    "    for j, val in enumerate(corr_values):\n",
    "        if val > 0.3 or val < -0.3:\n",
    "            ax.text(j, val-0.02, str(j+1), ha='left', color='black')\n",
    "    for k, val in enumerate(corr_values.values):\n",
    "        if val > 0.3 or val < -0.3:\n",
    "            ax.text(k, val+0.03, round(val, 2), ha='left', va='bottom',color='green', fontsize=8)\n",
    "\n",
    "\n",
    "\n",
    "    plt.savefig(f'{i+1}th Region corr.png')\n",
    "    #plt.show()"
   ]
  },
  {
   "cell_type": "code",
   "execution_count": null,
   "metadata": {},
   "outputs": [],
   "source": []
  }
 ],
 "metadata": {
  "kernelspec": {
   "display_name": "Python 3",
   "language": "python",
   "name": "python3"
  },
  "language_info": {
   "codemirror_mode": {
    "name": "ipython",
    "version": 3
   },
   "file_extension": ".py",
   "mimetype": "text/x-python",
   "name": "python",
   "nbconvert_exporter": "python",
   "pygments_lexer": "ipython3",
   "version": "3.8.10"
  },
  "orig_nbformat": 4
 },
 "nbformat": 4,
 "nbformat_minor": 2
}
